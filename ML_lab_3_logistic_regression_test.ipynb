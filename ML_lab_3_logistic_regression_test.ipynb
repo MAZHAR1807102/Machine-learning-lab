{
 "cells": [
  {
   "cell_type": "code",
   "execution_count": 1,
   "id": "b36c0428",
   "metadata": {},
   "outputs": [],
   "source": [
    "import matplotlib.pyplot as plt\n",
    "import numpy as np\n",
    "import pandas as pd\n",
    "\n",
    "import sklearn\n",
    "from sklearn.model_selection import train_test_split\n",
    "from sklearn.preprocessing import StandardScaler"
   ]
  },
  {
   "cell_type": "markdown",
   "id": "9b087aaa",
   "metadata": {},
   "source": [
    "# Data processing\n",
    "Dataset obtained from this blogpost.\n",
    "https://towardsdatascience.com/logistic-regression-detailed-overview-46c4da4303bc"
   ]
  },
  {
   "cell_type": "code",
   "execution_count": 2,
   "id": "dc5e8833",
   "metadata": {},
   "outputs": [],
   "source": [
    "df = pd.read_csv('iris-data.csv')"
   ]
  },
  {
   "cell_type": "code",
   "execution_count": 3,
   "id": "72e1fc60",
   "metadata": {},
   "outputs": [
    {
     "data": {
      "text/html": [
       "<div>\n",
       "<style scoped>\n",
       "    .dataframe tbody tr th:only-of-type {\n",
       "        vertical-align: middle;\n",
       "    }\n",
       "\n",
       "    .dataframe tbody tr th {\n",
       "        vertical-align: top;\n",
       "    }\n",
       "\n",
       "    .dataframe thead th {\n",
       "        text-align: right;\n",
       "    }\n",
       "</style>\n",
       "<table border=\"1\" class=\"dataframe\">\n",
       "  <thead>\n",
       "    <tr style=\"text-align: right;\">\n",
       "      <th></th>\n",
       "      <th>sepal_length_cm</th>\n",
       "      <th>sepal_width_cm</th>\n",
       "      <th>petal_length_cm</th>\n",
       "      <th>petal_width_cm</th>\n",
       "      <th>class</th>\n",
       "    </tr>\n",
       "  </thead>\n",
       "  <tbody>\n",
       "    <tr>\n",
       "      <th>0</th>\n",
       "      <td>5.1</td>\n",
       "      <td>3.5</td>\n",
       "      <td>1.4</td>\n",
       "      <td>0.2</td>\n",
       "      <td>Iris-setosa</td>\n",
       "    </tr>\n",
       "    <tr>\n",
       "      <th>1</th>\n",
       "      <td>4.9</td>\n",
       "      <td>3.0</td>\n",
       "      <td>1.4</td>\n",
       "      <td>0.2</td>\n",
       "      <td>Iris-setosa</td>\n",
       "    </tr>\n",
       "    <tr>\n",
       "      <th>2</th>\n",
       "      <td>4.7</td>\n",
       "      <td>3.2</td>\n",
       "      <td>1.3</td>\n",
       "      <td>0.2</td>\n",
       "      <td>Iris-setosa</td>\n",
       "    </tr>\n",
       "    <tr>\n",
       "      <th>3</th>\n",
       "      <td>4.6</td>\n",
       "      <td>3.1</td>\n",
       "      <td>1.5</td>\n",
       "      <td>0.2</td>\n",
       "      <td>Iris-setosa</td>\n",
       "    </tr>\n",
       "    <tr>\n",
       "      <th>4</th>\n",
       "      <td>5.0</td>\n",
       "      <td>3.6</td>\n",
       "      <td>1.4</td>\n",
       "      <td>0.2</td>\n",
       "      <td>Iris-setosa</td>\n",
       "    </tr>\n",
       "  </tbody>\n",
       "</table>\n",
       "</div>"
      ],
      "text/plain": [
       "   sepal_length_cm  sepal_width_cm  petal_length_cm  petal_width_cm  \\\n",
       "0              5.1             3.5              1.4             0.2   \n",
       "1              4.9             3.0              1.4             0.2   \n",
       "2              4.7             3.2              1.3             0.2   \n",
       "3              4.6             3.1              1.5             0.2   \n",
       "4              5.0             3.6              1.4             0.2   \n",
       "\n",
       "         class  \n",
       "0  Iris-setosa  \n",
       "1  Iris-setosa  \n",
       "2  Iris-setosa  \n",
       "3  Iris-setosa  \n",
       "4  Iris-setosa  "
      ]
     },
     "execution_count": 3,
     "metadata": {},
     "output_type": "execute_result"
    }
   ],
   "source": [
    "df.head()"
   ]
  },
  {
   "cell_type": "code",
   "execution_count": 4,
   "id": "1a9c2b3b",
   "metadata": {
    "scrolled": true
   },
   "outputs": [
    {
     "data": {
      "text/html": [
       "<div>\n",
       "<style scoped>\n",
       "    .dataframe tbody tr th:only-of-type {\n",
       "        vertical-align: middle;\n",
       "    }\n",
       "\n",
       "    .dataframe tbody tr th {\n",
       "        vertical-align: top;\n",
       "    }\n",
       "\n",
       "    .dataframe thead th {\n",
       "        text-align: right;\n",
       "    }\n",
       "</style>\n",
       "<table border=\"1\" class=\"dataframe\">\n",
       "  <thead>\n",
       "    <tr style=\"text-align: right;\">\n",
       "      <th></th>\n",
       "      <th>sepal_length_cm</th>\n",
       "      <th>sepal_width_cm</th>\n",
       "      <th>petal_length_cm</th>\n",
       "      <th>petal_width_cm</th>\n",
       "    </tr>\n",
       "  </thead>\n",
       "  <tbody>\n",
       "    <tr>\n",
       "      <th>count</th>\n",
       "      <td>100.000000</td>\n",
       "      <td>100.000000</td>\n",
       "      <td>100.000000</td>\n",
       "      <td>95.000000</td>\n",
       "    </tr>\n",
       "    <tr>\n",
       "      <th>mean</th>\n",
       "      <td>5.193940</td>\n",
       "      <td>3.095000</td>\n",
       "      <td>2.862000</td>\n",
       "      <td>0.816842</td>\n",
       "    </tr>\n",
       "    <tr>\n",
       "      <th>std</th>\n",
       "      <td>1.334795</td>\n",
       "      <td>0.475326</td>\n",
       "      <td>1.448565</td>\n",
       "      <td>0.563170</td>\n",
       "    </tr>\n",
       "    <tr>\n",
       "      <th>min</th>\n",
       "      <td>0.055000</td>\n",
       "      <td>2.000000</td>\n",
       "      <td>1.000000</td>\n",
       "      <td>0.100000</td>\n",
       "    </tr>\n",
       "    <tr>\n",
       "      <th>25%</th>\n",
       "      <td>4.975000</td>\n",
       "      <td>2.800000</td>\n",
       "      <td>1.500000</td>\n",
       "      <td>0.200000</td>\n",
       "    </tr>\n",
       "    <tr>\n",
       "      <th>50%</th>\n",
       "      <td>5.400000</td>\n",
       "      <td>3.050000</td>\n",
       "      <td>2.450000</td>\n",
       "      <td>1.000000</td>\n",
       "    </tr>\n",
       "    <tr>\n",
       "      <th>75%</th>\n",
       "      <td>5.800000</td>\n",
       "      <td>3.400000</td>\n",
       "      <td>4.325000</td>\n",
       "      <td>1.300000</td>\n",
       "    </tr>\n",
       "    <tr>\n",
       "      <th>max</th>\n",
       "      <td>7.000000</td>\n",
       "      <td>4.400000</td>\n",
       "      <td>5.100000</td>\n",
       "      <td>1.800000</td>\n",
       "    </tr>\n",
       "  </tbody>\n",
       "</table>\n",
       "</div>"
      ],
      "text/plain": [
       "       sepal_length_cm  sepal_width_cm  petal_length_cm  petal_width_cm\n",
       "count       100.000000      100.000000       100.000000       95.000000\n",
       "mean          5.193940        3.095000         2.862000        0.816842\n",
       "std           1.334795        0.475326         1.448565        0.563170\n",
       "min           0.055000        2.000000         1.000000        0.100000\n",
       "25%           4.975000        2.800000         1.500000        0.200000\n",
       "50%           5.400000        3.050000         2.450000        1.000000\n",
       "75%           5.800000        3.400000         4.325000        1.300000\n",
       "max           7.000000        4.400000         5.100000        1.800000"
      ]
     },
     "execution_count": 4,
     "metadata": {},
     "output_type": "execute_result"
    }
   ],
   "source": [
    "df.describe()"
   ]
  },
  {
   "cell_type": "code",
   "execution_count": 5,
   "id": "cebeb53f",
   "metadata": {
    "scrolled": true
   },
   "outputs": [
    {
     "name": "stdout",
     "output_type": "stream",
     "text": [
      "<class 'pandas.core.frame.DataFrame'>\n",
      "RangeIndex: 100 entries, 0 to 99\n",
      "Data columns (total 5 columns):\n",
      " #   Column           Non-Null Count  Dtype  \n",
      "---  ------           --------------  -----  \n",
      " 0   sepal_length_cm  100 non-null    float64\n",
      " 1   sepal_width_cm   100 non-null    float64\n",
      " 2   petal_length_cm  100 non-null    float64\n",
      " 3   petal_width_cm   95 non-null     float64\n",
      " 4   class            100 non-null    object \n",
      "dtypes: float64(4), object(1)\n",
      "memory usage: 4.0+ KB\n"
     ]
    }
   ],
   "source": [
    "df.info()"
   ]
  },
  {
   "cell_type": "code",
   "execution_count": 6,
   "id": "9a38b1e4",
   "metadata": {
    "scrolled": true
   },
   "outputs": [
    {
     "name": "stdout",
     "output_type": "stream",
     "text": [
      "<class 'pandas.core.frame.DataFrame'>\n",
      "Int64Index: 95 entries, 0 to 99\n",
      "Data columns (total 5 columns):\n",
      " #   Column           Non-Null Count  Dtype  \n",
      "---  ------           --------------  -----  \n",
      " 0   sepal_length_cm  95 non-null     float64\n",
      " 1   sepal_width_cm   95 non-null     float64\n",
      " 2   petal_length_cm  95 non-null     float64\n",
      " 3   petal_width_cm   95 non-null     float64\n",
      " 4   class            95 non-null     object \n",
      "dtypes: float64(4), object(1)\n",
      "memory usage: 4.5+ KB\n"
     ]
    }
   ],
   "source": [
    "#Removing all null values row\n",
    "df = df.dropna()\n",
    "df.info()"
   ]
  },
  {
   "cell_type": "code",
   "execution_count": 7,
   "id": "89c024cb",
   "metadata": {},
   "outputs": [],
   "source": [
    "df['class'].replace([\"Iris-setosa\",\"Iris-versicolor\"], [1,0], inplace=True)"
   ]
  },
  {
   "cell_type": "code",
   "execution_count": 8,
   "id": "d95befd9",
   "metadata": {
    "scrolled": false
   },
   "outputs": [
    {
     "data": {
      "text/html": [
       "<div>\n",
       "<style scoped>\n",
       "    .dataframe tbody tr th:only-of-type {\n",
       "        vertical-align: middle;\n",
       "    }\n",
       "\n",
       "    .dataframe tbody tr th {\n",
       "        vertical-align: top;\n",
       "    }\n",
       "\n",
       "    .dataframe thead th {\n",
       "        text-align: right;\n",
       "    }\n",
       "</style>\n",
       "<table border=\"1\" class=\"dataframe\">\n",
       "  <thead>\n",
       "    <tr style=\"text-align: right;\">\n",
       "      <th></th>\n",
       "      <th>sepal_length_cm</th>\n",
       "      <th>sepal_width_cm</th>\n",
       "      <th>petal_length_cm</th>\n",
       "      <th>petal_width_cm</th>\n",
       "      <th>class</th>\n",
       "    </tr>\n",
       "  </thead>\n",
       "  <tbody>\n",
       "    <tr>\n",
       "      <th>0</th>\n",
       "      <td>5.1</td>\n",
       "      <td>3.5</td>\n",
       "      <td>1.4</td>\n",
       "      <td>0.2</td>\n",
       "      <td>1</td>\n",
       "    </tr>\n",
       "    <tr>\n",
       "      <th>1</th>\n",
       "      <td>4.9</td>\n",
       "      <td>3.0</td>\n",
       "      <td>1.4</td>\n",
       "      <td>0.2</td>\n",
       "      <td>1</td>\n",
       "    </tr>\n",
       "    <tr>\n",
       "      <th>2</th>\n",
       "      <td>4.7</td>\n",
       "      <td>3.2</td>\n",
       "      <td>1.3</td>\n",
       "      <td>0.2</td>\n",
       "      <td>1</td>\n",
       "    </tr>\n",
       "    <tr>\n",
       "      <th>3</th>\n",
       "      <td>4.6</td>\n",
       "      <td>3.1</td>\n",
       "      <td>1.5</td>\n",
       "      <td>0.2</td>\n",
       "      <td>1</td>\n",
       "    </tr>\n",
       "    <tr>\n",
       "      <th>4</th>\n",
       "      <td>5.0</td>\n",
       "      <td>3.6</td>\n",
       "      <td>1.4</td>\n",
       "      <td>0.2</td>\n",
       "      <td>1</td>\n",
       "    </tr>\n",
       "  </tbody>\n",
       "</table>\n",
       "</div>"
      ],
      "text/plain": [
       "   sepal_length_cm  sepal_width_cm  petal_length_cm  petal_width_cm  class\n",
       "0              5.1             3.5              1.4             0.2      1\n",
       "1              4.9             3.0              1.4             0.2      1\n",
       "2              4.7             3.2              1.3             0.2      1\n",
       "3              4.6             3.1              1.5             0.2      1\n",
       "4              5.0             3.6              1.4             0.2      1"
      ]
     },
     "execution_count": 8,
     "metadata": {},
     "output_type": "execute_result"
    }
   ],
   "source": [
    "df.head()"
   ]
  },
  {
   "cell_type": "markdown",
   "id": "793c2fd2",
   "metadata": {},
   "source": [
    "## Now dividing the dataset\n",
    "- First in input data (X) and output data (y) \n",
    "- Then dividing training and test data (No validation, but why?) \n",
    "- Also added an extra column with all 1's. (Why)"
   ]
  },
  {
   "cell_type": "code",
   "execution_count": 9,
   "id": "8aec3265",
   "metadata": {},
   "outputs": [],
   "source": [
    "inp_df = df.drop(df.columns[[4]], axis=1)\n",
    "out_df = df.drop(df.columns[[0,1,2,3]], axis=1)\n",
    "\n",
    "#\n",
    "scaler = StandardScaler()\n",
    "inp_df = scaler.fit_transform(inp_df)\n",
    "\n",
    "# Adding an extra column to be compatible with bias\n",
    "new_c = (np.zeros(shape=(inp_df.shape[0],1)) + 1)\n",
    "inp_df = np.concatenate((inp_df, new_c), axis=1)\n",
    "\n",
    "#\n",
    "X_train, X_test, y_train, y_test = train_test_split(inp_df, out_df, test_size=0.2, random_state=42)"
   ]
  },
  {
   "cell_type": "code",
   "execution_count": 10,
   "id": "9b5e3722",
   "metadata": {
    "scrolled": true
   },
   "outputs": [
    {
     "data": {
      "text/plain": [
       "array([[ 0.65540611, -0.59375803,  0.73869892,  0.86247727,  1.        ],\n",
       "       [ 0.14025935,  0.65973115, -0.85464475, -1.10111477,  1.        ],\n",
       "       [ 0.58181371, -0.59375803,  1.50073285,  1.39800238,  1.        ],\n",
       "       [ 0.14025935, -0.17592831,  1.08507798,  1.21949401,  1.        ],\n",
       "       [-0.15411022,  0.24190142, -1.20102381, -1.10111477,  1.        ]])"
      ]
     },
     "execution_count": 10,
     "metadata": {},
     "output_type": "execute_result"
    }
   ],
   "source": [
    "X_train[:5]"
   ]
  },
  {
   "cell_type": "code",
   "execution_count": 11,
   "id": "05afaf88",
   "metadata": {
    "scrolled": true
   },
   "outputs": [
    {
     "data": {
      "text/html": [
       "<div>\n",
       "<style scoped>\n",
       "    .dataframe tbody tr th:only-of-type {\n",
       "        vertical-align: middle;\n",
       "    }\n",
       "\n",
       "    .dataframe tbody tr th {\n",
       "        vertical-align: top;\n",
       "    }\n",
       "\n",
       "    .dataframe thead th {\n",
       "        text-align: right;\n",
       "    }\n",
       "</style>\n",
       "<table border=\"1\" class=\"dataframe\">\n",
       "  <thead>\n",
       "    <tr style=\"text-align: right;\">\n",
       "      <th></th>\n",
       "      <th>class</th>\n",
       "    </tr>\n",
       "  </thead>\n",
       "  <tbody>\n",
       "    <tr>\n",
       "      <th>71</th>\n",
       "      <td>0</td>\n",
       "    </tr>\n",
       "    <tr>\n",
       "      <th>20</th>\n",
       "      <td>1</td>\n",
       "    </tr>\n",
       "    <tr>\n",
       "      <th>83</th>\n",
       "      <td>0</td>\n",
       "    </tr>\n",
       "    <tr>\n",
       "      <th>84</th>\n",
       "      <td>0</td>\n",
       "    </tr>\n",
       "    <tr>\n",
       "      <th>35</th>\n",
       "      <td>1</td>\n",
       "    </tr>\n",
       "  </tbody>\n",
       "</table>\n",
       "</div>"
      ],
      "text/plain": [
       "    class\n",
       "71      0\n",
       "20      1\n",
       "83      0\n",
       "84      0\n",
       "35      1"
      ]
     },
     "execution_count": 11,
     "metadata": {},
     "output_type": "execute_result"
    }
   ],
   "source": [
    "y_train[:5]"
   ]
  },
  {
   "cell_type": "markdown",
   "id": "9bfbc90a",
   "metadata": {},
   "source": [
    "# Logistic Regression\n",
    "## Model Equation\n",
    "\n",
    "$$y = \\frac{1}{1+e^{-\\sum{w_i x_i}}}$$\n",
    "\n",
    "\n",
    "## Binary cross entropy loss\n",
    "\n",
    "$$loss = - \\frac{1}{N} \\sum_{i=1}^N y \\log{\\hat{y}} + (1-y) \\log{(1-\\hat{y})}$$"
   ]
  },
  {
   "attachments": {
    "image.png": {
     "image/png": "[encoded data removed]"
    }
   },
   "cell_type": "markdown",
   "id": "63970501",
   "metadata": {},
   "source": [
    "# Derivative of sigmoid loss funtion for logistic regression\n",
    "https://medium.com/@andrewdaviesul/chain-rule-differentiation-log-loss-function-d79f223eae5\n",
    "![image.png](attachment:image.png)"
   ]
  },
  {
   "cell_type": "code",
   "execution_count": 12,
   "id": "a9ede389",
   "metadata": {},
   "outputs": [],
   "source": [
    "def model(X, W): # W is an array of weights\n",
    "    # Logistic regression model implementation\n",
    "    y = np.zeros(shape=(X.shape[0], 1))\n",
    "    y = np.expand_dims(y, axis=1)\n",
    "    \n",
    "    return y"
   ]
  },
  {
   "cell_type": "code",
   "execution_count": 13,
   "id": "d152fafb",
   "metadata": {},
   "outputs": [],
   "source": [
    "def loss_bce(y_true, y_pred, W):\n",
    "    # Binary cross entropy loss\n",
    "    loss = 0\n",
    "    \n",
    "    return loss"
   ]
  },
  {
   "cell_type": "code",
   "execution_count": 14,
   "id": "0a5083be",
   "metadata": {},
   "outputs": [],
   "source": [
    "def fit(num_weights, epoch=10, lr = 1):\n",
    "    # Initialization\n",
    "    W = np.zeros(num_weights)\n",
    "    \n",
    "    # Epochs start\n",
    "    for e in range(1, epoch+1):           \n",
    "        y_pred = model(X_train, W)\n",
    "        print(e, \". Loss: \", loss_bce(y_train, y_pred, W), \", W: \", W)\n",
    "        \n",
    "        for i in range(W.shape[0]):\n",
    "            # Calculate derivative against parameters [Implement yourself]\n",
    "            x_i = 0\n",
    "            dw_i = 0\n",
    "            \n",
    "            # Update parameters [Implement yourself]\n",
    "            W[i] = 0\n",
    "        \n",
    "        # Plot the lines\n",
    "        # Y_hat = w * X + b\n",
    "        # plt.plot(X, Y_hat, label=\"Epoch: \"+str(i))\n",
    "    \n",
    "    # plt.scatter(X, Y, label=\"dataset\")\n",
    "    # plt.legend()\n",
    "    # plt.show()\n",
    "    \n",
    "    return W"
   ]
  },
  {
   "cell_type": "code",
   "execution_count": 15,
   "id": "c73baf39",
   "metadata": {},
   "outputs": [
    {
     "name": "stdout",
     "output_type": "stream",
     "text": [
      "1 . Loss:  0 , W:  [0. 0. 0. 0. 0.]\n",
      "2 . Loss:  0 , W:  [0. 0. 0. 0. 0.]\n",
      "3 . Loss:  0 , W:  [0. 0. 0. 0. 0.]\n",
      "4 . Loss:  0 , W:  [0. 0. 0. 0. 0.]\n",
      "5 . Loss:  0 , W:  [0. 0. 0. 0. 0.]\n",
      "6 . Loss:  0 , W:  [0. 0. 0. 0. 0.]\n",
      "7 . Loss:  0 , W:  [0. 0. 0. 0. 0.]\n",
      "8 . Loss:  0 , W:  [0. 0. 0. 0. 0.]\n",
      "9 . Loss:  0 , W:  [0. 0. 0. 0. 0.]\n",
      "10 . Loss:  0 , W:  [0. 0. 0. 0. 0.]\n"
     ]
    }
   ],
   "source": [
    "W = fit(5)"
   ]
  }
 ],
 "metadata": {
  "kernelspec": {
   "display_name": "Python 3 (ipykernel)",
   "language": "python",
   "name": "python3"
  },
  "language_info": {
   "codemirror_mode": {
    "name": "ipython",
    "version": 3
   },
   "file_extension": ".py",
   "mimetype": "text/x-python",
   "name": "python",
   "nbconvert_exporter": "python",
   "pygments_lexer": "ipython3",
   "version": "3.9.13"
  }
 },
 "nbformat": 4,
 "nbformat_minor": 5
}
