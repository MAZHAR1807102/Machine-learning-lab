{
 "cells": [
  {
   "cell_type": "code",
   "execution_count": 19,
   "id": "fa332f96",
   "metadata": {},
   "outputs": [],
   "source": [
    "import numpy as np\n",
    "import matplotlib.pyplot as plt"
   ]
  },
  {
   "cell_type": "markdown",
   "id": "f77b9cad",
   "metadata": {},
   "source": [
    "## Dataset"
   ]
  },
  {
   "cell_type": "code",
   "execution_count": 20,
   "id": "f42572e7",
   "metadata": {},
   "outputs": [],
   "source": [
    "x1 = np.random.normal(loc=11, scale=2.0, size=100)\n",
    "y1 = np.random.normal(loc=5, scale=3.0, size=100)\n",
    "\n",
    "x2 = np.random.normal(loc=3, scale=1.5, size=75)\n",
    "y2 = np.random.normal(loc=15, scale=2.0, size=75)"
   ]
  },
  {
   "cell_type": "code",
   "execution_count": 21,
   "id": "1c127156",
   "metadata": {},
   "outputs": [
    {
     "data": {
      "image/png": "[encoded data removed]",
      "text/plain": [
       "<Figure size 640x480 with 1 Axes>"
      ]
     },
     "metadata": {},
     "output_type": "display_data"
    }
   ],
   "source": [
    "plt.scatter(x1, y1, label=\"cluster1\")\n",
    "plt.scatter(x2, y2, label=\"cluster2\")\n",
    "\n",
    "plt.legend()\n",
    "plt.show()"
   ]
  },
  {
   "cell_type": "code",
   "execution_count": null,
   "id": "b0325dee",
   "metadata": {},
   "outputs": [],
   "source": []
  },
  {
   "cell_type": "code",
   "execution_count": 22,
   "id": "ebd06f89",
   "metadata": {},
   "outputs": [],
   "source": [
    "X = np.expand_dims(np.append(x1, x2), axis=1)\n",
    "Y = np.expand_dims(np.append(y1, y2), axis=1)\n",
    "\n",
    "data = np.concatenate((X,Y), axis=1)"
   ]
  },
  {
   "cell_type": "code",
   "execution_count": 23,
   "id": "e2d2b706",
   "metadata": {},
   "outputs": [
    {
     "data": {
      "text/plain": [
       "(175, 1)"
      ]
     },
     "execution_count": 23,
     "metadata": {},
     "output_type": "execute_result"
    }
   ],
   "source": [
    "X.shape"
   ]
  },
  {
   "cell_type": "code",
   "execution_count": 24,
   "id": "250a531b",
   "metadata": {},
   "outputs": [
    {
     "data": {
      "text/plain": [
       "(175, 2)"
      ]
     },
     "execution_count": 24,
     "metadata": {},
     "output_type": "execute_result"
    }
   ],
   "source": [
    "data.shape"
   ]
  },
  {
   "cell_type": "code",
   "execution_count": 25,
   "id": "2f7b0885",
   "metadata": {},
   "outputs": [
    {
     "data": {
      "text/plain": [
       "array([[11.52782454, -0.57459153],\n",
       "       [ 7.55532301,  5.12347566],\n",
       "       [15.81755095,  2.06412885],\n",
       "       [10.95342713,  8.13654932],\n",
       "       [10.5775803 ,  3.04255121]])"
      ]
     },
     "execution_count": 25,
     "metadata": {},
     "output_type": "execute_result"
    }
   ],
   "source": [
    "data[:5]"
   ]
  },
  {
   "cell_type": "markdown",
   "id": "98f20111",
   "metadata": {},
   "source": [
    "## Model"
   ]
  },
  {
   "cell_type": "code",
   "execution_count": 26,
   "id": "bd7dbc79",
   "metadata": {},
   "outputs": [],
   "source": [
    "def eucl_dist(p1, p2):\n",
    "    return np.sqrt(np.sum((p1-p2) ** 2))"
   ]
  },
  {
   "cell_type": "code",
   "execution_count": 27,
   "id": "eaf0fb43",
   "metadata": {},
   "outputs": [
    {
     "data": {
      "text/plain": [
       "array([[1, 3],\n",
       "       [2, 2]])"
      ]
     },
     "execution_count": 27,
     "metadata": {},
     "output_type": "execute_result"
    }
   ],
   "source": [
    "    k1 = np.expand_dims(np.append(1, 2), axis=1)\n",
    "    k2= np.expand_dims(np.append(3, 2), axis=1)\n",
    "    k = np.concatenate((k1,k2), axis=1)\n",
    "    k"
   ]
  },
  {
   "cell_type": "code",
   "execution_count": 28,
   "id": "83a608a2",
   "metadata": {},
   "outputs": [],
   "source": [
    "def KMeans(dataPoints, K):\n",
    "    # takes data points returns k points as cluster mid\n",
    "\n",
    "    distance1=[]\n",
    "    distance2=[]\n",
    "    cen = [(np.random.randint(0,30), np.random.randint(0, 30)) for i in range(K)]\n",
    "    epoch = 1\n",
    "    cntx = 0\n",
    "    cnty=0\n",
    "    for i in range(epoch):\n",
    "        label = []\n",
    "        for d in dataPoints:\n",
    "            #label for each datapoints\n",
    "            distances1 = eucl_dist(k[0], d)\n",
    "            distances2 = eucl_dist(k[1],d)\n",
    "            if(distance1>distance2):\n",
    "                label.append(2)\n",
    "            else:\n",
    "                label.append(1)\n",
    "        for i in range(dataPoints.shape[0]):\n",
    "            if(label[i]==1):\n",
    "                x1 = sum(dataPoints[i][0])\n",
    "                y1 = sum(dataPoints[i][1])\n",
    "                cntx+=1\n",
    "               # k[0] =np.mean(dataPoints[i])\n",
    "            else:\n",
    "                x2 = sum(dataPoints[i][0])\n",
    "                y2 = sum(dataPoints[i][1])\n",
    "                cnty+=1\n",
    "        x1_m = x1//cntx\n",
    "        y1_m = y1//cntx\n",
    "\n",
    "        x2_m = x2 //cnty\n",
    "        y2_m = y2 //cnty\n",
    "                \n",
    "               # k[1] = np.mean(dataPoints[i])\n",
    "            \n",
    "       # for c in range(k):\n",
    "            #new center, Mean of the cluster points\n",
    "          #  cen[c] = []\n",
    "        \n",
    "    return 0"
   ]
  },
  {
   "cell_type": "code",
   "execution_count": 29,
   "id": "2b07d025",
   "metadata": {},
   "outputs": [
    {
     "ename": "TypeError",
     "evalue": "'int' object is not subscriptable",
     "output_type": "error",
     "traceback": [
      "\u001b[0;31m---------------------------------------------------------------------------\u001b[0m",
      "\u001b[0;31mTypeError\u001b[0m                                 Traceback (most recent call last)",
      "\u001b[0;32m/var/folders/xy/f38p0gwx2yg993gptdq35y_w0000gn/T/ipykernel_1753/1350822977.py\u001b[0m in \u001b[0;36m<module>\u001b[0;34m\u001b[0m\n\u001b[0;32m----> 1\u001b[0;31m \u001b[0mKMeans\u001b[0m\u001b[0;34m(\u001b[0m\u001b[0mdata\u001b[0m\u001b[0;34m,\u001b[0m \u001b[0;36m2\u001b[0m\u001b[0;34m)\u001b[0m\u001b[0;34m\u001b[0m\u001b[0;34m\u001b[0m\u001b[0m\n\u001b[0m",
      "\u001b[0;32m/var/folders/xy/f38p0gwx2yg993gptdq35y_w0000gn/T/ipykernel_1753/3180012888.py\u001b[0m in \u001b[0;36mKMeans\u001b[0;34m(dataPoints, k)\u001b[0m\n\u001b[1;32m     12\u001b[0m         \u001b[0;32mfor\u001b[0m \u001b[0md\u001b[0m \u001b[0;32min\u001b[0m \u001b[0mdataPoints\u001b[0m\u001b[0;34m:\u001b[0m\u001b[0;34m\u001b[0m\u001b[0;34m\u001b[0m\u001b[0m\n\u001b[1;32m     13\u001b[0m             \u001b[0;31m#label for each datapoints\u001b[0m\u001b[0;34m\u001b[0m\u001b[0;34m\u001b[0m\u001b[0m\n\u001b[0;32m---> 14\u001b[0;31m             \u001b[0mdistances1\u001b[0m \u001b[0;34m=\u001b[0m \u001b[0meucl_dist\u001b[0m\u001b[0;34m(\u001b[0m\u001b[0mk\u001b[0m\u001b[0;34m[\u001b[0m\u001b[0;36m0\u001b[0m\u001b[0;34m]\u001b[0m\u001b[0;34m,\u001b[0m \u001b[0md\u001b[0m\u001b[0;34m)\u001b[0m\u001b[0;34m\u001b[0m\u001b[0;34m\u001b[0m\u001b[0m\n\u001b[0m\u001b[1;32m     15\u001b[0m             \u001b[0mdistances2\u001b[0m \u001b[0;34m=\u001b[0m \u001b[0meucl_dist\u001b[0m\u001b[0;34m(\u001b[0m\u001b[0mk\u001b[0m\u001b[0;34m[\u001b[0m\u001b[0;36m1\u001b[0m\u001b[0;34m]\u001b[0m\u001b[0;34m,\u001b[0m\u001b[0md\u001b[0m\u001b[0;34m)\u001b[0m\u001b[0;34m\u001b[0m\u001b[0;34m\u001b[0m\u001b[0m\n\u001b[1;32m     16\u001b[0m             \u001b[0;32mif\u001b[0m\u001b[0;34m(\u001b[0m\u001b[0mdistance1\u001b[0m\u001b[0;34m>\u001b[0m\u001b[0mdistance2\u001b[0m\u001b[0;34m)\u001b[0m\u001b[0;34m:\u001b[0m\u001b[0;34m\u001b[0m\u001b[0;34m\u001b[0m\u001b[0m\n",
      "\u001b[0;31mTypeError\u001b[0m: 'int' object is not subscriptable"
     ]
    }
   ],
   "source": [
    "KMeans(data, 2)"
   ]
  },
  {
   "cell_type": "markdown",
   "id": "efc4ca91",
   "metadata": {},
   "source": []
  }
 ],
 "metadata": {
  "kernelspec": {
   "display_name": "Python 3 (ipykernel)",
   "language": "python",
   "name": "python3"
  },
  "language_info": {
   "codemirror_mode": {
    "name": "ipython",
    "version": 3
   },
   "file_extension": ".py",
   "mimetype": "text/x-python",
   "name": "python",
   "nbconvert_exporter": "python",
   "pygments_lexer": "ipython3",
   "version": "3.9.13"
  }
 },
 "nbformat": 4,
 "nbformat_minor": 5
}
